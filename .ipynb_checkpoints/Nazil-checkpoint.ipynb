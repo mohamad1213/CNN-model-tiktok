{
 "cells": [
  {
   "cell_type": "code",
   "execution_count": 14,
   "id": "4f94d252-5685-491b-afc3-5cd498cf11f9",
   "metadata": {},
   "outputs": [],
   "source": [
    "from google_play_scraper import app, Sort, reviews_all\n",
    "from app_store_scraper import AppStore\n",
    "import pandas as pd\n",
    "import numpy as np\n",
    "import json, os, uuid\n",
    "import csv"
   ]
  },
  {
   "cell_type": "code",
   "execution_count": 15,
   "metadata": {},
   "outputs": [
    {
     "name": "stdout",
     "output_type": "stream",
     "text": [
      "Requirement already satisfied: pandas in c:\\users\\lenovo x1\\downloads\\test\\venv\\lib\\site-packages (2.1.3)Note: you may need to restart the kernel to use updated packages.\n",
      "\n",
      "Requirement already satisfied: numpy<2,>=1.23.2 in c:\\users\\lenovo x1\\downloads\\test\\venv\\lib\\site-packages (from pandas) (1.26.2)\n",
      "Requirement already satisfied: python-dateutil>=2.8.2 in c:\\users\\lenovo x1\\downloads\\test\\venv\\lib\\site-packages (from pandas) (2.8.2)\n",
      "Requirement already satisfied: pytz>=2020.1 in c:\\users\\lenovo x1\\downloads\\test\\venv\\lib\\site-packages (from pandas) (2023.3.post1)\n",
      "Requirement already satisfied: tzdata>=2022.1 in c:\\users\\lenovo x1\\downloads\\test\\venv\\lib\\site-packages (from pandas) (2023.3)\n",
      "Requirement already satisfied: six>=1.5 in c:\\users\\lenovo x1\\downloads\\test\\venv\\lib\\site-packages (from python-dateutil>=2.8.2->pandas) (1.16.0)\n"
     ]
    }
   ],
   "source": [
    "pip install pandas"
   ]
  },
  {
   "cell_type": "code",
   "execution_count": 16,
   "metadata": {},
   "outputs": [
    {
     "name": "stdout",
     "output_type": "stream",
     "text": [
      "Requirement already satisfied: numpy in c:\\users\\lenovo x1\\downloads\\test\\venv\\lib\\site-packages (1.26.2)\n",
      "Note: you may need to restart the kernel to use updated packages.\n"
     ]
    }
   ],
   "source": [
    "pip install numpy"
   ]
  },
  {
   "cell_type": "markdown",
   "metadata": {},
   "source": [
    "pip install google_play_scraper"
   ]
  },
  {
   "cell_type": "code",
   "execution_count": 17,
   "metadata": {},
   "outputs": [
    {
     "name": "stdout",
     "output_type": "stream",
     "text": [
      "Requirement already satisfied: google_play_scraper in c:\\users\\lenovo x1\\downloads\\test\\venv\\lib\\site-packages (1.2.4)\n",
      "Note: you may need to restart the kernel to use updated packages.\n"
     ]
    }
   ],
   "source": [
    "pip install google_play_scraper"
   ]
  },
  {
   "cell_type": "code",
   "execution_count": 18,
   "metadata": {},
   "outputs": [
    {
     "name": "stdout",
     "output_type": "stream",
     "text": [
      "Requirement already satisfied: app_store_scraper in c:\\users\\lenovo x1\\downloads\\test\\venv\\lib\\site-packages (0.3.5)\n",
      "Requirement already satisfied: requests==2.23.0 in c:\\users\\lenovo x1\\downloads\\test\\venv\\lib\\site-packages (from app_store_scraper) (2.23.0)\n",
      "Requirement already satisfied: chardet<4,>=3.0.2 in c:\\users\\lenovo x1\\downloads\\test\\venv\\lib\\site-packages (from requests==2.23.0->app_store_scraper) (3.0.4)\n",
      "Requirement already satisfied: idna<3,>=2.5 in c:\\users\\lenovo x1\\downloads\\test\\venv\\lib\\site-packages (from requests==2.23.0->app_store_scraper) (2.10)\n",
      "Requirement already satisfied: urllib3!=1.25.0,!=1.25.1,<1.26,>=1.21.1 in c:\\users\\lenovo x1\\downloads\\test\\venv\\lib\\site-packages (from requests==2.23.0->app_store_scraper) (1.25.11)\n",
      "Requirement already satisfied: certifi>=2017.4.17 in c:\\users\\lenovo x1\\downloads\\test\\venv\\lib\\site-packages (from requests==2.23.0->app_store_scraper) (2023.7.22)\n",
      "Note: you may need to restart the kernel to use updated packages.\n"
     ]
    }
   ],
   "source": [
    "pip install app_store_scraper"
   ]
  },
  {
   "cell_type": "code",
   "execution_count": 19,
   "id": "acd6e025-7ab0-40c3-862e-d429e8cefa5d",
   "metadata": {},
   "outputs": [],
   "source": [
    "g_reviews = reviews_all(\n",
    "        \"com.zhiliaoapp.musically\",\n",
    "        sleep_milliseconds=0, # defaults to 0\n",
    "        lang='en', # defaults to 'en'\n",
    "        country='us', # defaults to 'us'\n",
    "        sort=Sort.NEWEST, # defaults to Sort.MOST_RELEVANT\n",
    "    )\n",
    "a_reviews = AppStore('us', 'password-manager-myvault', '1138075747')\n",
    "a_reviews.review()"
   ]
  },
  {
   "cell_type": "code",
   "execution_count": null,
   "id": "6d67c8bd-bc84-4ffe-9b27-7802d52b6b9d",
   "metadata": {
    "tags": []
   },
   "outputs": [],
   "source": [
    "g_df = pd.DataFrame(np.array(g_reviews),columns=['review'])\n",
    "g_df2 = g_df.join(pd.DataFrame(g_df.pop('review').tolist()))\n",
    "\n",
    "g_df2.drop(columns={'userImage', 'reviewCreatedVersion'},inplace = True)\n",
    "g_df2.rename(columns= {'score': 'rating','userName': 'user_name', 'reviewId': 'review_id', 'content': 'review_description', 'at': 'review_date', 'replyContent': 'developer_response', 'repliedAt': 'developer_response_date', 'thumbsUpCount': 'thumbs_up'},inplace = True)\n",
    "g_df2.insert(loc=0, column='source', value='Google Play')\n",
    "g_df2.insert(loc=3, column='review_title', value=None)\n",
    "g_df2['laguage_code'] = 'en'\n",
    "g_df2['country_code'] = 'us'\n"
   ]
  },
  {
   "cell_type": "code",
   "execution_count": null,
   "id": "c7aa7ee7-9a50-4c96-94d3-c6dec4e21ccc",
   "metadata": {},
   "outputs": [],
   "source": [
    "a_df = pd.DataFrame(np.array(a_reviews.reviews),columns=['review'])\n",
    "a_df2 = a_df.join(pd.DataFrame(a_df.pop('review').tolist()))"
   ]
  },
  {
   "cell_type": "code",
   "execution_count": null,
   "id": "eb189fef-8d4d-49e0-99ca-62ffd5ea4db7",
   "metadata": {},
   "outputs": [],
   "source": [
    "a_df2.drop(columns={'isEdited'},inplace = True)\n",
    "a_df2.insert(loc=0, column='source', value='App Store')\n",
    "a_df2['developer_response_date'] = None\n",
    "a_df2['thumbs_up'] = None\n",
    "a_df2['laguage_code'] = 'en'\n",
    "a_df2['country_code'] = 'us'\n",
    "a_df2.insert(loc=1, column='review_id', value=[uuid.uuid4() for _ in range(len(a_df2.index))])\n",
    "a_df2.rename(columns= {'review': 'review_description','userName': 'user_name', 'date': 'review_date','title': 'review_title', 'developerResponse': 'developer_response'},inplace = True)\n",
    "a_df2 = a_df2.where(pd.notnull(a_df2), None)"
   ]
  },
  {
   "cell_type": "code",
   "execution_count": null,
   "id": "9b3af958-a6bc-4c26-9459-3e48adb337e3",
   "metadata": {},
   "outputs": [],
   "source": [
    "result = pd.concat([g_df2,a_df2])\n",
    "result"
   ]
  },
  {
   "cell_type": "code",
   "execution_count": null,
   "id": "91e6078d-28a8-493f-b272-928b8b2b7fc2",
   "metadata": {},
   "outputs": [],
   "source": []
  },
  {
   "cell_type": "code",
   "execution_count": null,
   "id": "84e5c8bf-5507-4191-a6bb-e2c4e7831c42",
   "metadata": {},
   "outputs": [],
   "source": []
  }
 ],
 "metadata": {
  "kernelspec": {
   "display_name": "Python 3 (ipykernel)",
   "language": "python",
   "name": "python3"
  },
  "language_info": {
   "codemirror_mode": {
    "name": "ipython",
    "version": 3
   },
   "file_extension": ".py",
   "mimetype": "text/x-python",
   "name": "python",
   "nbconvert_exporter": "python",
   "pygments_lexer": "ipython3",
   "version": "3.11.5"
  }
 },
 "nbformat": 4,
 "nbformat_minor": 5
}
